{
 "cells": [
  {
   "cell_type": "code",
   "execution_count": 1,
   "metadata": {},
   "outputs": [],
   "source": [
    "# pip install pandas evaluate\n",
    "#importing required libraries\n",
    "import pandas as pd\n",
    "import evaluate"
   ]
  },
  {
   "cell_type": "code",
   "execution_count": 2,
   "metadata": {},
   "outputs": [],
   "source": [
    "# Reading contracts sentences\n",
    "Pred=pd.read_csv(\"\")\n",
    "Target=pd.read_excel(\"\")"
   ]
  },
  {
   "cell_type": "code",
   "execution_count": null,
   "metadata": {},
   "outputs": [],
   "source": [
    "meteor = evaluate.load('meteor')"
   ]
  },
  {
   "cell_type": "code",
   "execution_count": 4,
   "metadata": {},
   "outputs": [],
   "source": [
    "Meteorlist=[]"
   ]
  },
  {
   "cell_type": "code",
   "execution_count": 5,
   "metadata": {},
   "outputs": [],
   "source": [
    "def Meteor_calc(pred_list,target_list):\n",
    "    meteorsum=0\n",
    "    for i in range(len(pred_list)):\n",
    "        results = meteor.compute(predictions=[pred_list[i]], references=[target_list])\n",
    "        meteorsum+=results['meteor']\n",
    "    avgmeteor=meteorsum/len(pred_list)\n",
    "    Meteorlist.append(avgmeteor)\n",
    "    return \"Meteor: \"+ str(round(avgmeteor,2))"
   ]
  },
  {
   "cell_type": "code",
   "execution_count": 6,
   "metadata": {},
   "outputs": [],
   "source": [
    "Pred['Eval_results']=\"\"\n",
    "for i in range(len(Pred)):\n",
    "    pred_list=Pred['Model Output'][i].strip().split(\"\\n\")\n",
    "    target_list=Target['GPT-3.5 Response'][i].strip().split(\"\\n\")\n",
    "    Pred['Eval_results'][i]=Meteor_calc(pred_list,target_list)\n",
    "Pred.to_csv(\"Chirag_Model1_eval_meteor.csv\",index=False)"
   ]
  },
  {
   "cell_type": "code",
   "execution_count": null,
   "metadata": {},
   "outputs": [],
   "source": [
    "print(\"Meteor : \" + str(sum(Meteorlist)/len(Meteorlist)))"
   ]
  }
 ],
 "metadata": {
  "kernelspec": {
   "display_name": "Python 3",
   "language": "python",
   "name": "python3"
  },
  "language_info": {
   "codemirror_mode": {
    "name": "ipython",
    "version": 3
   },
   "file_extension": ".py",
   "mimetype": "text/x-python",
   "name": "python",
   "nbconvert_exporter": "python",
   "pygments_lexer": "ipython3",
   "version": "3.8.3"
  }
 },
 "nbformat": 4,
 "nbformat_minor": 5
}
