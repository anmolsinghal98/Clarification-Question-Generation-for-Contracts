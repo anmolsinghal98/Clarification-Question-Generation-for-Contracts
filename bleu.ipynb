{
 "cells": [
  {
   "cell_type": "code",
   "execution_count": null,
   "metadata": {},
   "outputs": [],
   "source": [
    "#Pairwise-BLEU\n",
    "\n",
    "import pandas as pd\n",
    "from nltk.translate.bleu_score import corpus_bleu\n",
    "\n",
    "df = pd.read_csv('/workspace/Vicuna-Output-Attributes.csv')\n",
    "\n",
    "import json\n",
    "c = 0\n",
    "bleu_sum = 0\n",
    "for k in range(len(df)):\n",
    "    list_rat = df.iloc[k]['Vicuna Output']\n",
    "    if list_rat == \"No Clarification Needed\":\n",
    "        continue\n",
    "    #list_rat = list_rat.split(\"\\n\")\n",
    "    list_rat = json.loads(list_rat)['List of Clarification Questions']\n",
    "    c_p1 = []\n",
    "    c_p2 = []\n",
    "    if(len(list_rat)==0):\n",
    "        continue\n",
    "    for i in range(len(list_rat)-1):\n",
    "        p1 = []\n",
    "        p2 = list_rat[i].split()\n",
    "        #print(p2)\n",
    "        for j in range(i+1,len(list_rat)):\n",
    "            p1.append(list_rat[j].split())\n",
    "        c_p1.append(p1)\n",
    "        c_p2.append(p2)\n",
    "    if(len(c_p1)==0 or len(c_p2)==0):\n",
    "        continue\n",
    "    bleu = corpus_bleu(c_p1, c_p2, weights=(0.25, 0.25, 0.25, 0.25))\n",
    "    #print(bleu)\n",
    "    bleu_sum += bleu\n",
    "    c += 1\n",
    "print(bleu_sum / c)"
   ]
  },
  {
   "cell_type": "code",
   "execution_count": 16,
   "metadata": {},
   "outputs": [],
   "source": [
    "#Average BLEU\n",
    "\n",
    "import json\n",
    "import pandas as pd\n",
    "\n",
    "df = pd.read_csv('')\n",
    "ref = pd.read_csv('')"
   ]
  },
  {
   "cell_type": "code",
   "execution_count": null,
   "metadata": {},
   "outputs": [],
   "source": [
    "c = 0\n",
    "bleu_sum = 0\n",
    "corpus_pred = []\n",
    "corpus_ref = []\n",
    "for i in range(1,len(df)):\n",
    "    pred_cq = df.iloc[i]['Vicuna Output']\n",
    "    pred_cq = json.loads(pred_cq)\n",
    "    if 'List of Clarification Questions' not in pred_cq.keys():\n",
    "        pred_cq = []\n",
    "    else:\n",
    "        pred_cq = pred_cq['List of Clarification Questions']\n",
    "    ref_cq = ref.iloc[i]['GPT-3.5 Response'].split(\"\\n\")\n",
    "    ref_cq_processed = []\n",
    "    for j in range(len(ref_cq)):\n",
    "        if len(ref_cq[j].strip())==0:\n",
    "            continue\n",
    "        ref_cq_processed.append(ref_cq[j].split()[1:])\n",
    "    #print(ref_cq_processed)\n",
    "    for j in range(len(pred_cq)):\n",
    "        cq = pred_cq[j].split()\n",
    "        corpus_pred.append(cq)\n",
    "    corpus_ref.extend([ref_cq_processed] * len(pred_cq))\n",
    "    c+=1\n",
    "bleu = corpus_bleu(corpus_ref, corpus_pred, weights=(0.25, 0.25, 0.25, 0.25))\n",
    "print(bleu)\n",
    "print(c)"
   ]
  },
  {
   "cell_type": "code",
   "execution_count": null,
   "metadata": {},
   "outputs": [],
   "source": [
    "c = 0\n",
    "bleu_sum = 0\n",
    "for k in range(len(df)):\n",
    "    list_rat = df.iloc[k]['List of Clarification Questions'][1:-1].split(\",\")\n",
    "    c_p1 = []\n",
    "    c_p2 = []\n",
    "    if(len(list_rat)==0):\n",
    "        continue\n",
    "    for i in range(len(list_rat)-1):\n",
    "        p1 = []\n",
    "        p2 = list_rat[i].split()\n",
    "        for j in range(i+1,len(list_rat)):\n",
    "            p1.append(list_rat[j].split())\n",
    "        c_p1.append(p1)\n",
    "        c_p2.append(p2)\n",
    "    if(len(c_p1)==0 or len(c_p2)==0):\n",
    "        continue\n",
    "    bleu = corpus_bleu(c_p1, c_p2, weights=(0.25, 0.25, 0.25, 0.25))\n",
    "    print(bleu)\n",
    "    bleu_sum += bleu\n",
    "    c += 1\n",
    "print(bleu_sum / c)"
   ]
  },
  {
   "cell_type": "code",
   "execution_count": null,
   "metadata": {},
   "outputs": [],
   "source": []
  }
 ],
 "metadata": {
  "kernelspec": {
   "display_name": "Python 3",
   "language": "python",
   "name": "python3"
  },
  "language_info": {
   "codemirror_mode": {
    "name": "ipython",
    "version": 3
   },
   "file_extension": ".py",
   "mimetype": "text/x-python",
   "name": "python",
   "nbconvert_exporter": "python",
   "pygments_lexer": "ipython3",
   "version": "3.8.3"
  }
 },
 "nbformat": 4,
 "nbformat_minor": 5
}
